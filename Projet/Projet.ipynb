{
 "cells": [
  {
   "cell_type": "markdown",
   "metadata": {},
   "source": [
    "#  Consignes\n",
    "\n",
    "## Description\n",
    "\n",
    "récupérer un jeu de données qui vous intéresse (exemple de source : www.data.gouv.fr) : Ecrire le code qui le pousse  proprement dans une base de données mongo, et puis écrire les queries qui permettent d’extraire les données les plus intéressantes (des commentaires sont appréciés)\n",
    "\n",
    "Base de donnée : Top 500 des albums des Rolling Stones\n",
    "Source : https://data.world/notgibs/rolling-stones-top-500-albums/workspace/file?filename=albumlist.csv\n"
   ]
  },
  {
   "cell_type": "code",
   "execution_count": 1,
   "metadata": {},
   "outputs": [],
   "source": [
    "import pandas as pd\n",
    "import pymongo"
   ]
  },
  {
   "cell_type": "code",
   "execution_count": 2,
   "metadata": {},
   "outputs": [],
   "source": [
    "client = pymongo.MongoClient(\"mongo:27017\")\n",
    "database = client['exercices']\n",
    "collection = database['albums']"
   ]
  },
  {
   "cell_type": "code",
   "execution_count": 70,
   "metadata": {},
   "outputs": [],
   "source": [
    "df_al = pd.read_csv(\"./data/albumlist.csv\", encoding = \"ISO-8859-1\", engine='python')"
   ]
  },
  {
   "cell_type": "markdown",
   "metadata": {},
   "source": [
    "### Netoyer les données"
   ]
  },
  {
   "cell_type": "code",
   "execution_count": 71,
   "metadata": {},
   "outputs": [],
   "source": [
    "l_d =df_al.to_dict(orient='records')"
   ]
  },
  {
   "cell_type": "markdown",
   "metadata": {
    "slideshow": {
     "slide_type": "slide"
    }
   },
   "source": [
    "### Importer les données"
   ]
  },
  {
   "cell_type": "code",
   "execution_count": 82,
   "metadata": {},
   "outputs": [
    {
     "data": {
      "text/plain": [
       "<pymongo.results.InsertManyResult at 0x7f53001c7e48>"
      ]
     },
     "execution_count": 82,
     "metadata": {},
     "output_type": "execute_result"
    }
   ],
   "source": [
    "collection.delete_many({})\n",
    "collection.insert_many(l_d)"
   ]
  },
  {
   "cell_type": "markdown",
   "metadata": {},
   "source": [
    "## Requête 1  \n",
    "    \n",
    "Récupérer les albums réalisés par \"Metallica\""
   ]
  },
  {
   "cell_type": "code",
   "execution_count": 52,
   "metadata": {},
   "outputs": [
    {
     "data": {
      "text/plain": [
       "[{'_id': ObjectId('602f9a85b4cf2c001163d17e'),\n",
       "  'Number': 167,\n",
       "  'Year': 1986,\n",
       "  'Album': 'Master of Puppets',\n",
       "  'Artist': 'Metallica',\n",
       "  'Genre': 'Rock',\n",
       "  'Subgenre': 'Thrash, Speed Metal'},\n",
       " {'_id': ObjectId('602f9a85b4cf2c001163d1d6'),\n",
       "  'Number': 255,\n",
       "  'Year': 1991,\n",
       "  'Album': 'Metallica (\"The Black Album\")',\n",
       "  'Artist': 'Metallica',\n",
       "  'Genre': 'Rock',\n",
       "  'Subgenre': 'Heavy Metal'}]"
      ]
     },
     "execution_count": 52,
     "metadata": {},
     "output_type": "execute_result"
    }
   ],
   "source": [
    "list(collection.find({'Artist': 'Metallica'}))"
   ]
  },
  {
   "cell_type": "markdown",
   "metadata": {},
   "source": [
    "## Requête 2\n",
    "\n",
    "2) Le nombre d'album du style \"Soul\""
   ]
  },
  {
   "cell_type": "code",
   "execution_count": 54,
   "metadata": {},
   "outputs": [
    {
     "data": {
      "text/plain": [
       "{'nb_album': 80}"
      ]
     },
     "execution_count": 54,
     "metadata": {},
     "output_type": "execute_result"
    }
   ],
   "source": [
    "collection.create_index([(\"Genre\", \"text\")])\n",
    "\n",
    "next(collection.aggregate([\n",
    "        {\"$match\":{\"$text\":{\"$search\" : \"Soul\"}}},\n",
    "        {\"$count\" : \"nb_album\"}\n",
    "    ]))"
   ]
  },
  {
   "cell_type": "markdown",
   "metadata": {},
   "source": [
    "## Requête 3\n",
    "\n",
    "Compter le nombre d'albums pour chaque artiste."
   ]
  },
  {
   "cell_type": "code",
   "execution_count": 40,
   "metadata": {},
   "outputs": [
    {
     "data": {
      "text/plain": [
       "[{'_id': 'The Modern Lovers', 'nb_album': 1},\n",
       " {'_id': 'Sam Cooke', 'nb_album': 2},\n",
       " {'_id': 'Ramones', 'nb_album': 2},\n",
       " {'_id': 'Lou Reed', 'nb_album': 2},\n",
       " {'_id': 'Steve Earle', 'nb_album': 1},\n",
       " {'_id': 'MGMT', 'nb_album': 1},\n",
       " {'_id': 'Madonna', 'nb_album': 3},\n",
       " {'_id': 'Fleetwood Mac', 'nb_album': 2},\n",
       " {'_id': 'The Stone Roses', 'nb_album': 1},\n",
       " {'_id': 'Pixies', 'nb_album': 2},\n",
       " {'_id': 'Creedence Clearwater Revival', 'nb_album': 2},\n",
       " {'_id': 'Jay Z', 'nb_album': 3},\n",
       " {'_id': 'Toots & The Maytals', 'nb_album': 1},\n",
       " {'_id': 'Quicksilver Messenger Service', 'nb_album': 1},\n",
       " {'_id': 'Metallica', 'nb_album': 2},\n",
       " {'_id': 'The Kinks', 'nb_album': 3},\n",
       " {'_id': 'Linda Ronstadt', 'nb_album': 1},\n",
       " {'_id': 'Professor Longhair', 'nb_album': 1},\n",
       " {'_id': 'Black Flag', 'nb_album': 1},\n",
       " {'_id': 'Dusty Springfield', 'nb_album': 1},\n",
       " {'_id': 'Funkadelic', 'nb_album': 2},\n",
       " {'_id': 'Queen', 'nb_album': 1},\n",
       " {'_id': 'De La Soul', 'nb_album': 1},\n",
       " {'_id': 'Lil Wayne', 'nb_album': 1},\n",
       " {'_id': 'Rod Stewart', 'nb_album': 1},\n",
       " {'_id': 'Whitney Houston', 'nb_album': 1},\n",
       " {'_id': 'Big Star', 'nb_album': 3},\n",
       " {'_id': 'Eurythmics', 'nb_album': 1},\n",
       " {'_id': 'Various', 'nb_album': 2},\n",
       " {'_id': 'Cyndi Lauper', 'nb_album': 1},\n",
       " {'_id': 'Pavement', 'nb_album': 2},\n",
       " {'_id': 'The Doors', 'nb_album': 3},\n",
       " {'_id': 'Michael Jackson', 'nb_album': 3},\n",
       " {'_id': 'Etta James', 'nb_album': 1},\n",
       " {'_id': 'The Byrds', 'nb_album': 4},\n",
       " {'_id': 'Dr. Dre', 'nb_album': 1},\n",
       " {'_id': 'The Ronettes', 'nb_album': 1},\n",
       " {'_id': 'Richard & Linda Thompson', 'nb_album': 2},\n",
       " {'_id': 'Little Walter', 'nb_album': 1},\n",
       " {'_id': 'Cat Stevens', 'nb_album': 1},\n",
       " {'_id': 'Patsy Cline', 'nb_album': 1},\n",
       " {'_id': 'Jackie Wilson', 'nb_album': 1},\n",
       " {'_id': 'Wilco', 'nb_album': 1},\n",
       " {'_id': 'The Zombies', 'nb_album': 1},\n",
       " {'_id': 'The Mothers of Invention', 'nb_album': 2},\n",
       " {'_id': 'Brian Eno', 'nb_album': 2},\n",
       " {'_id': 'Aerosmith', 'nb_album': 2},\n",
       " {'_id': 'Steve Miller Band', 'nb_album': 1},\n",
       " {'_id': 'The Jimi Hendrix Experience', 'nb_album': 3},\n",
       " {'_id': \"Jane's Addiction\", 'nb_album': 1},\n",
       " {'_id': 'Peter Wolf', 'nb_album': 1},\n",
       " {'_id': 'Little Richard', 'nb_album': 1},\n",
       " {'_id': 'Carole King', 'nb_album': 1},\n",
       " {'_id': 'Aretha Franklin', 'nb_album': 2},\n",
       " {'_id': 'The Cars', 'nb_album': 1},\n",
       " {'_id': 'Bob Dylan and the Band', 'nb_album': 1},\n",
       " {'_id': 'Santana', 'nb_album': 2},\n",
       " {'_id': 'Neil Diamond', 'nb_album': 1},\n",
       " {'_id': 'Arctic Monkeys', 'nb_album': 1},\n",
       " {'_id': 'The Cure', 'nb_album': 2},\n",
       " {'_id': 'Suicide', 'nb_album': 1},\n",
       " {'_id': 'The Who', 'nb_album': 7},\n",
       " {'_id': 'Curtis Mayfield', 'nb_album': 1},\n",
       " {'_id': 'LCD Soundsystem', 'nb_album': 1},\n",
       " {'_id': 'John Coltrane', 'nb_album': 2},\n",
       " {'_id': 'Bruce Springsteen', 'nb_album': 8},\n",
       " {'_id': 'Miles Davis', 'nb_album': 3},\n",
       " {'_id': 'Various Artists', 'nb_album': 5},\n",
       " {'_id': 'Iggy and The Stooges', 'nb_album': 1},\n",
       " {'_id': 'Derek and the Dominos', 'nb_album': 1},\n",
       " {'_id': 'Paul Simon', 'nb_album': 2},\n",
       " {'_id': 'Love', 'nb_album': 1},\n",
       " {'_id': 'Mott the Hoople', 'nb_album': 2},\n",
       " {'_id': 'Massive Attack', 'nb_album': 1},\n",
       " {'_id': 'Barry White', 'nb_album': 1},\n",
       " {'_id': 'Captain Beefheart & His Magic Band', 'nb_album': 1},\n",
       " {'_id': 'Boz Scaggs', 'nb_album': 1},\n",
       " {'_id': 'Janis Joplin', 'nb_album': 1},\n",
       " {'_id': 'AC/DC', 'nb_album': 2},\n",
       " {'_id': 'Eminem', 'nb_album': 2},\n",
       " {'_id': 'Public Image Ltd.', 'nb_album': 1},\n",
       " {'_id': 'Crosby, Stills, Nash & Young', 'nb_album': 1},\n",
       " {'_id': 'Billy Joel', 'nb_album': 2},\n",
       " {'_id': 'The Notorious B.I.G.', 'nb_album': 2},\n",
       " {'_id': 'Paul McCartney & Wings', 'nb_album': 1},\n",
       " {'_id': 'Earth, Wind & Fire', 'nb_album': 1},\n",
       " {'_id': 'The Paul Butterfield Blues Band', 'nb_album': 1},\n",
       " {'_id': 'Husker Du', 'nb_album': 1},\n",
       " {'_id': 'N.W.A', 'nb_album': 1},\n",
       " {'_id': 'Dire Straits', 'nb_album': 1},\n",
       " {'_id': 'The Rolling Stones', 'nb_album': 10},\n",
       " {'_id': 'My Bloody Valentine', 'nb_album': 1},\n",
       " {'_id': 'Moby', 'nb_album': 1},\n",
       " {'_id': 'My Morning Jacket', 'nb_album': 1},\n",
       " {'_id': 'The Pogues', 'nb_album': 1},\n",
       " {'_id': 'Black Sabbath', 'nb_album': 3},\n",
       " {'_id': 'Jeff Buckley', 'nb_album': 1},\n",
       " {'_id': 'Van Halen', 'nb_album': 1},\n",
       " {'_id': 'Talking Heads', 'nb_album': 4},\n",
       " {'_id': 'Bo Diddley', 'nb_album': 1},\n",
       " {'_id': 'The Wailers', 'nb_album': 2},\n",
       " {'_id': 'Depeche Mode', 'nb_album': 1},\n",
       " {'_id': 'Run D.M.C.', 'nb_album': 2},\n",
       " {'_id': 'Jackson Browne', 'nb_album': 3},\n",
       " {'_id': \"Sinead O'Connor\", 'nb_album': 1},\n",
       " {'_id': 'Bonnie Raitt', 'nb_album': 2},\n",
       " {'_id': 'Gram Parsons', 'nb_album': 1},\n",
       " {'_id': 'The Meters', 'nb_album': 2},\n",
       " {'_id': 'Phil Spector', 'nb_album': 2},\n",
       " {'_id': \"Howlin' Wolf\", 'nb_album': 2},\n",
       " {'_id': 'Diana Ross & The Supremes', 'nb_album': 1},\n",
       " {'_id': 'Van Morrison', 'nb_album': 2},\n",
       " {'_id': 'Rage Against the Machine', 'nb_album': 1},\n",
       " {'_id': 'Jefferson Airplane', 'nb_album': 2},\n",
       " {'_id': 'The Clash', 'nb_album': 3},\n",
       " {'_id': 'Minutemen', 'nb_album': 1},\n",
       " {'_id': 'R.E.M.', 'nb_album': 3},\n",
       " {'_id': 'The Velvet Underground', 'nb_album': 4},\n",
       " {'_id': 'Steely Dan', 'nb_album': 3},\n",
       " {'_id': 'The Mamas and the Papas', 'nb_album': 1},\n",
       " {'_id': 'Radiohead', 'nb_album': 5},\n",
       " {'_id': 'Big Brother & the Holding Company', 'nb_album': 1},\n",
       " {'_id': 'Bjork', 'nb_album': 1},\n",
       " {'_id': 'The Strokes', 'nb_album': 1},\n",
       " {'_id': 'Bob Dylan', 'nb_album': 10},\n",
       " {'_id': 'New York Dolls', 'nb_album': 1},\n",
       " {'_id': 'The Grateful Dead', 'nb_album': 1},\n",
       " {'_id': 'Smokey Robinson & The Miracles', 'nb_album': 1},\n",
       " {'_id': 'Los Lobos', 'nb_album': 1},\n",
       " {'_id': 'Robert Johnson', 'nb_album': 1},\n",
       " {'_id': 'John Lennon / Plastic Ono Band', 'nb_album': 1},\n",
       " {'_id': 'The Smiths', 'nb_album': 4},\n",
       " {'_id': 'Buzzcocks', 'nb_album': 1},\n",
       " {'_id': 'OutKast', 'nb_album': 2},\n",
       " {'_id': 'Gang of Four', 'nb_album': 1},\n",
       " {'_id': 'Nine Inch Nails', 'nb_album': 1},\n",
       " {'_id': 'George Harrison', 'nb_album': 1},\n",
       " {'_id': 'A Tribe Called Quest', 'nb_album': 1},\n",
       " {'_id': 'The Temptations', 'nb_album': 1},\n",
       " {'_id': 'Pearl Jam', 'nb_album': 2},\n",
       " {'_id': 'Randy Newman', 'nb_album': 3},\n",
       " {'_id': 'Willie Nelson', 'nb_album': 2},\n",
       " {'_id': 'Neil Young & Crazy Horse', 'nb_album': 2},\n",
       " {'_id': 'Nick Drake', 'nb_album': 1},\n",
       " {'_id': 'Coldplay', 'nb_album': 1},\n",
       " {'_id': 'Prince and the Revolution', 'nb_album': 1},\n",
       " {'_id': 'War', 'nb_album': 1},\n",
       " {'_id': 'The Crickets', 'nb_album': 1},\n",
       " {'_id': 'Cream', 'nb_album': 3},\n",
       " {'_id': 'Blondie', 'nb_album': 1},\n",
       " {'_id': 'B.B. King', 'nb_album': 2},\n",
       " {'_id': 'The Magnetic Fields', 'nb_album': 1},\n",
       " {'_id': 'Lucinda Williams', 'nb_album': 1},\n",
       " {'_id': 'John Prine', 'nb_album': 1},\n",
       " {'_id': 'Arcade Fire', 'nb_album': 1},\n",
       " {'_id': 'Moby Grape', 'nb_album': 1},\n",
       " {'_id': 'Todd Rundgren', 'nb_album': 1},\n",
       " {'_id': 'LaBelle', 'nb_album': 1},\n",
       " {'_id': 'The Stooges', 'nb_album': 2},\n",
       " {'_id': 'Otis Redding', 'nb_album': 3},\n",
       " {'_id': 'Eric Clapton', 'nb_album': 2},\n",
       " {'_id': 'Buffalo Springfield', 'nb_album': 1},\n",
       " {'_id': 'Grateful Dead', 'nb_album': 3},\n",
       " {'_id': 'Manu Chao', 'nb_album': 1},\n",
       " {'_id': 'Sonic Youth', 'nb_album': 1},\n",
       " {'_id': 'Wu Tang Clan', 'nb_album': 1},\n",
       " {'_id': 'Portishead', 'nb_album': 1},\n",
       " {'_id': 'KISS', 'nb_album': 2},\n",
       " {'_id': 'Sleater Kinney', 'nb_album': 1},\n",
       " {'_id': 'Weezer', 'nb_album': 1},\n",
       " {'_id': 'Nirvana', 'nb_album': 3},\n",
       " {'_id': 'EPMD', 'nb_album': 1},\n",
       " {'_id': 'New Order', 'nb_album': 1},\n",
       " {'_id': 'Hole', 'nb_album': 1},\n",
       " {'_id': 'Echo and The Bunnymen', 'nb_album': 1},\n",
       " {'_id': 'DEVO', 'nb_album': 1},\n",
       " {'_id': 'Bob Marley & The Wailers', 'nb_album': 3},\n",
       " {'_id': 'T. Rex', 'nb_album': 1},\n",
       " {'_id': \"The O'Jays\", 'nb_album': 1},\n",
       " {'_id': 'Fugees', 'nb_album': 1},\n",
       " {'_id': 'Red Hot Chili Peppers', 'nb_album': 2},\n",
       " {'_id': 'Stevie Wonder', 'nb_album': 4},\n",
       " {'_id': 'Elvis Costello', 'nb_album': 2},\n",
       " {'_id': 'The Smashing Pumpkins', 'nb_album': 1},\n",
       " {'_id': 'Marvin Gaye', 'nb_album': 3},\n",
       " {'_id': 'MC5', 'nb_album': 2},\n",
       " {'_id': 'John Lennon', 'nb_album': 1},\n",
       " {'_id': 'Television', 'nb_album': 1},\n",
       " {'_id': 'Ike & Tina Turner', 'nb_album': 1},\n",
       " {'_id': 'Patti Smith', 'nb_album': 1},\n",
       " {'_id': 'John Lee Hooker', 'nb_album': 1},\n",
       " {'_id': 'Kraftwerk', 'nb_album': 1},\n",
       " {'_id': 'David Bowie', 'nb_album': 5},\n",
       " {'_id': 'Crosby, Stills & Nash', 'nb_album': 1},\n",
       " {'_id': 'Vampire Weekend', 'nb_album': 1},\n",
       " {'_id': 'Peter Gabriel', 'nb_album': 1},\n",
       " {'_id': 'Green Day', 'nb_album': 2},\n",
       " {'_id': 'Elvis Costello & The Attractions', 'nb_album': 2},\n",
       " {'_id': 'Al Green', 'nb_album': 3},\n",
       " {'_id': 'Sly & The Family Stone', 'nb_album': 4},\n",
       " {'_id': 'Parliament', 'nb_album': 1},\n",
       " {'_id': 'Elton John', 'nb_album': 5},\n",
       " {'_id': 'Carpenters', 'nb_album': 1},\n",
       " {'_id': 'M.I.A.', 'nb_album': 1},\n",
       " {'_id': 'Raekwon', 'nb_album': 1},\n",
       " {'_id': 'Johnny Cash', 'nb_album': 2},\n",
       " {'_id': 'Public Enemy', 'nb_album': 2},\n",
       " {'_id': 'Leonard Cohen', 'nb_album': 1},\n",
       " {'_id': 'ABBA', 'nb_album': 1},\n",
       " {'_id': 'The Flying Burrito Brothers', 'nb_album': 1},\n",
       " {'_id': 'Blood, Sweat & Tears', 'nb_album': 1},\n",
       " {'_id': 'Prince', 'nb_album': 3},\n",
       " {'_id': 'Don Henley', 'nb_album': 1},\n",
       " {'_id': 'Lauryn Hill', 'nb_album': 1},\n",
       " {'_id': 'Lynyrd Skynyrd', 'nb_album': 1},\n",
       " {'_id': \"D'Angelo\", 'nb_album': 1},\n",
       " {'_id': 'Ray Charles', 'nb_album': 3},\n",
       " {'_id': 'The Replacements', 'nb_album': 2},\n",
       " {'_id': 'Pretenders', 'nb_album': 1},\n",
       " {'_id': 'Bobby \"Blue\" Bland', 'nb_album': 1},\n",
       " {'_id': 'Tom Petty and the Heartbreakers', 'nb_album': 1},\n",
       " {'_id': 'Sex Pistols', 'nb_album': 1},\n",
       " {'_id': 'Neil Young', 'nb_album': 3},\n",
       " {'_id': 'Albert King', 'nb_album': 1},\n",
       " {'_id': 'Tom Waits', 'nb_album': 3},\n",
       " {'_id': 'Oasis', 'nb_album': 1},\n",
       " {'_id': 'Kanye West', 'nb_album': 3},\n",
       " {'_id': 'Chuck Berry', 'nb_album': 1},\n",
       " {'_id': 'Jerry Lee Lewis', 'nb_album': 1},\n",
       " {'_id': 'The Beach Boys', 'nb_album': 3},\n",
       " {'_id': 'Cheap Trick', 'nb_album': 2},\n",
       " {'_id': \"The Go Go's\", 'nb_album': 1},\n",
       " {'_id': 'ZZ Top', 'nb_album': 2},\n",
       " {'_id': 'Hank Williams', 'nb_album': 1},\n",
       " {'_id': 'The Jesus and Mary Chain', 'nb_album': 1},\n",
       " {'_id': 'The Band', 'nb_album': 2},\n",
       " {'_id': 'James Brown', 'nb_album': 3},\n",
       " {'_id': 'The Allman Brothers Band', 'nb_album': 1},\n",
       " {'_id': 'Mary J. Blige', 'nb_album': 1},\n",
       " {'_id': 'Roxy Music', 'nb_album': 2},\n",
       " {'_id': 'John Mayall & The Bluesbreakers', 'nb_album': 1},\n",
       " {'_id': 'Liz Phair', 'nb_album': 1},\n",
       " {'_id': 'Janet Jackson', 'nb_album': 1},\n",
       " {'_id': 'Graham Parker & The Rumour', 'nb_album': 1},\n",
       " {'_id': 'The Beatles', 'nb_album': 10},\n",
       " {'_id': 'Joni Mitchell', 'nb_album': 2},\n",
       " {'_id': \"The B 52's\", 'nb_album': 1},\n",
       " {'_id': 'Muddy Waters', 'nb_album': 3},\n",
       " {'_id': 'U2', 'nb_album': 5},\n",
       " {'_id': 'Joy Division', 'nb_album': 1},\n",
       " {'_id': 'Ornette Coleman', 'nb_album': 1},\n",
       " {'_id': 'L.L. Cool J', 'nb_album': 1},\n",
       " {'_id': 'Meat Loaf', 'nb_album': 1},\n",
       " {'_id': 'TLC', 'nb_album': 1},\n",
       " {'_id': 'Nas', 'nb_album': 1},\n",
       " {'_id': 'Tracy Chapman', 'nb_album': 1},\n",
       " {'_id': 'Beastie Boys', 'nb_album': 2},\n",
       " {'_id': 'Buddy Holly', 'nb_album': 1},\n",
       " {'_id': 'Eric B. & Rakim', 'nb_album': 1},\n",
       " {'_id': 'The Yardbirds', 'nb_album': 2},\n",
       " {'_id': 'Pink Floyd', 'nb_album': 4},\n",
       " {'_id': 'Dolly Parton', 'nb_album': 1},\n",
       " {'_id': 'Jethro Tull', 'nb_album': 1},\n",
       " {'_id': 'The Drifters', 'nb_album': 1},\n",
       " {'_id': 'George Michael', 'nb_album': 1},\n",
       " {'_id': 'Elvis Presley', 'nb_album': 3},\n",
       " {'_id': 'Janet', 'nb_album': 1},\n",
       " {'_id': 'The White Stripes', 'nb_album': 2},\n",
       " {'_id': 'Led Zeppelin', 'nb_album': 5},\n",
       " {'_id': 'Frank Sinatra', 'nb_album': 2},\n",
       " {'_id': 'Eagles', 'nb_album': 2},\n",
       " {'_id': 'Curtis Mayfield and The Impressions', 'nb_album': 1},\n",
       " {'_id': 'Alice Cooper', 'nb_album': 1},\n",
       " {'_id': 'Merle Haggard', 'nb_album': 1},\n",
       " {'_id': 'Dr. John, the Night Tripper', 'nb_album': 1},\n",
       " {'_id': 'Loretta Lynn', 'nb_album': 1},\n",
       " {'_id': 'PJ Harvey', 'nb_album': 2},\n",
       " {'_id': 'Amy Winehouse', 'nb_album': 1},\n",
       " {'_id': 'Dr. John', 'nb_album': 1},\n",
       " {'_id': 'X', 'nb_album': 2},\n",
       " {'_id': \"Guns N' Roses\", 'nb_album': 1},\n",
       " {'_id': 'Simon & Garfunkel', 'nb_album': 3},\n",
       " {'_id': 'Wire', 'nb_album': 1},\n",
       " {'_id': 'Beck', 'nb_album': 2},\n",
       " {'_id': 'Soundgarden', 'nb_album': 1},\n",
       " {'_id': 'Stan GetzÊ/ÊJoao GilbertoÊfeaturingÊAntonio Carlos Jobim',\n",
       "  'nb_album': 1},\n",
       " {'_id': 'Def Leppard', 'nb_album': 1},\n",
       " {'_id': 'The Police', 'nb_album': 4},\n",
       " {'_id': 'James Taylor', 'nb_album': 1}]"
      ]
     },
     "execution_count": 40,
     "metadata": {},
     "output_type": "execute_result"
    }
   ],
   "source": [
    "list(collection.aggregate([\n",
    "    {\"$group\" : {\n",
    "        \"_id\" : \"$Artist\", \n",
    "        \"nb_album\" : {\"$sum\" : 1}\n",
    "    }}\n",
    "]))"
   ]
  },
  {
   "cell_type": "markdown",
   "metadata": {},
   "source": [
    "## Requête 4\n",
    "\n",
    "Les albums Blues des années 70"
   ]
  },
  {
   "cell_type": "code",
   "execution_count": 73,
   "metadata": {},
   "outputs": [
    {
     "data": {
      "text/plain": [
       "[{'_id': ObjectId('602ff843b4cf2c001163d4c2'),\n",
       "  'Number': 499,\n",
       "  'Year': 1971,\n",
       "  'Album': 'Live in Cook County Jail',\n",
       "  'Artist': 'B.B. King',\n",
       "  'Genre': 'Blues',\n",
       "  'Subgenre': 'Electric Blues'},\n",
       " {'_id': ObjectId('602ff843b4cf2c001163d41d'),\n",
       "  'Number': 334,\n",
       "  'Year': 1979,\n",
       "  'Album': 'Squeezing Out Sparks',\n",
       "  'Artist': 'Graham Parker & The Rumour',\n",
       "  'Genre': 'Rock, Blues',\n",
       "  'Subgenre': 'None'},\n",
       " {'_id': ObjectId('602ff843b4cf2c001163d34c'),\n",
       "  'Number': 125,\n",
       "  'Year': 1971,\n",
       "  'Album': 'Pearl',\n",
       "  'Artist': 'Janis Joplin',\n",
       "  'Genre': 'Rock, Blues',\n",
       "  'Subgenre': 'Blues Rock'},\n",
       " {'_id': ObjectId('602ff843b4cf2c001163d300'),\n",
       "  'Number': 49,\n",
       "  'Year': 1971,\n",
       "  'Album': 'At Fillmore East',\n",
       "  'Artist': 'The Allman Brothers Band',\n",
       "  'Genre': 'Rock, Blues',\n",
       "  'Subgenre': 'Blues Rock'},\n",
       " {'_id': ObjectId('602ff843b4cf2c001163d3ad'),\n",
       "  'Number': 222,\n",
       "  'Year': 1972,\n",
       "  'Album': 'New Orleans Piano',\n",
       "  'Artist': 'Professor Longhair',\n",
       "  'Genre': 'Funk / Soul, Blues',\n",
       "  'Subgenre': 'Piano Blues'}]"
      ]
     },
     "execution_count": 73,
     "metadata": {},
     "output_type": "execute_result"
    }
   ],
   "source": [
    "collection.create_index([(\"Genre\", \"text\")])\n",
    "\n",
    "list(collection.find({\"$text\":{\"$search\" : \"Blues\"},\"Year\":{\"$gte\":1970, \"$lt\": 1980}}))"
   ]
  },
  {
   "cell_type": "markdown",
   "metadata": {},
   "source": [
    "## Requête 5\n",
    "\n",
    "Les artistes ayant fait le plus d'albums"
   ]
  },
  {
   "cell_type": "code",
   "execution_count": 51,
   "metadata": {},
   "outputs": [
    {
     "data": {
      "text/plain": [
       "[{'_id': 'The Beatles', 'nb_album': 10},\n",
       " {'_id': 'The Rolling Stones', 'nb_album': 10},\n",
       " {'_id': 'Bob Dylan', 'nb_album': 10},\n",
       " {'_id': 'Bruce Springsteen', 'nb_album': 8},\n",
       " {'_id': 'The Who', 'nb_album': 7}]"
      ]
     },
     "execution_count": 51,
     "metadata": {},
     "output_type": "execute_result"
    }
   ],
   "source": [
    "list(collection.aggregate([\n",
    "    {\"$group\":{\n",
    "        \"_id\" : \"$Artist\", \n",
    "        \"nb_album\" : {\"$sum\" :1}}\n",
    "    },\n",
    "    {\"$sort\" : {\"nb_album\" : -1}},\n",
    "    {\"$limit\" : 5}\n",
    "]))"
   ]
  },
  {
   "cell_type": "markdown",
   "metadata": {},
   "source": [
    "## Requête 6 \n",
    "\n",
    "L'année ayant le plus d'album sortie"
   ]
  },
  {
   "cell_type": "code",
   "execution_count": 60,
   "metadata": {},
   "outputs": [
    {
     "data": {
      "text/plain": [
       "[{'_id': 1970, 'nb_album': 26}]"
      ]
     },
     "execution_count": 60,
     "metadata": {},
     "output_type": "execute_result"
    }
   ],
   "source": [
    "list(collection.aggregate([\n",
    "    {\"$group\":{\n",
    "        \"_id\" : \"$Year\", \n",
    "        \"nb_album\" : {\"$sum\" :1}}\n",
    "    },\n",
    "    {\"$sort\" : {\"nb_album\" : -1}},\n",
    "    {\"$limit\" : 1}\n",
    "]))"
   ]
  },
  {
   "cell_type": "markdown",
   "metadata": {},
   "source": [
    "## Requête 7\n",
    "\n",
    "Ajouter l'album Hybrid Theory & Meteora de Linkin Park"
   ]
  },
  {
   "cell_type": "code",
   "execution_count": 83,
   "metadata": {},
   "outputs": [
    {
     "data": {
      "text/plain": [
       "[]"
      ]
     },
     "execution_count": 83,
     "metadata": {},
     "output_type": "execute_result"
    }
   ],
   "source": [
    "list(collection.find({\"Artist\": \"Linkin Park\"}))"
   ]
  },
  {
   "cell_type": "code",
   "execution_count": 84,
   "metadata": {},
   "outputs": [
    {
     "data": {
      "text/plain": [
       "<pymongo.results.InsertManyResult at 0x7f5300cf2708>"
      ]
     },
     "execution_count": 84,
     "metadata": {},
     "output_type": "execute_result"
    }
   ],
   "source": [
    "collection.insert_many([\n",
    "    {\n",
    "        'Number': 501,\n",
    "        'Year': 2000,\n",
    "        'Album': 'Hybrid Theory',\n",
    "        'Artist': 'Linkin Park',\n",
    "        'Genre': 'Rock, Metal, Rap Metal',\n",
    "        'Subgenre': 'Nu Metal, Metal Alterative, Rap Rock'\n",
    "    },\n",
    "    {\n",
    "        'Number': 502,\n",
    "        'Year': 2003,\n",
    "        'Album': 'Meteora',\n",
    "        'Artist': 'Linkin Park',\n",
    "        'Genre': 'Rock, Metal, Rap Metal, Metal Alternative',\n",
    "        'Subgenre': 'Nu Metal, Metal Alterative, Rap Rock'\n",
    "    }\n",
    "])\n"
   ]
  },
  {
   "cell_type": "code",
   "execution_count": 85,
   "metadata": {
    "scrolled": false
   },
   "outputs": [
    {
     "data": {
      "text/plain": [
       "[{'_id': ObjectId('602ffaccb4cf2c001163d4c9'),\n",
       "  'Number': 501,\n",
       "  'Year': 2000,\n",
       "  'Album': 'Hybrid Theory',\n",
       "  'Artist': 'Linkin Park',\n",
       "  'Genre': 'Rock, Metal, Rap Metal',\n",
       "  'Subgenre': 'Nu Metal, Metal Alterative, Rap Rock'},\n",
       " {'_id': ObjectId('602ffaccb4cf2c001163d4ca'),\n",
       "  'Number': 502,\n",
       "  'Year': 2003,\n",
       "  'Album': 'Meteora',\n",
       "  'Artist': 'Linkin Park',\n",
       "  'Genre': 'Rock, Metal, Rap Metal, Metal Alternative',\n",
       "  'Subgenre': 'Nu Metal, Metal Alterative, Rap Rock'}]"
      ]
     },
     "execution_count": 85,
     "metadata": {},
     "output_type": "execute_result"
    }
   ],
   "source": [
    "list(collection.find({\"Artist\": \"Linkin Park\"}))"
   ]
  },
  {
   "cell_type": "markdown",
   "metadata": {},
   "source": [
    "## Requête 8\n",
    "\n",
    "Ajouter l'album The End Is Where We Begin & Welcome to the Masquerade de TFK"
   ]
  },
  {
   "cell_type": "code",
   "execution_count": 86,
   "metadata": {},
   "outputs": [
    {
     "data": {
      "text/plain": [
       "[]"
      ]
     },
     "execution_count": 86,
     "metadata": {},
     "output_type": "execute_result"
    }
   ],
   "source": [
    "list(collection.find({\"Artist\": \"TFK\"}))"
   ]
  },
  {
   "cell_type": "code",
   "execution_count": 87,
   "metadata": {},
   "outputs": [
    {
     "data": {
      "text/plain": [
       "<pymongo.results.InsertManyResult at 0x7f5300cf95c8>"
      ]
     },
     "execution_count": 87,
     "metadata": {},
     "output_type": "execute_result"
    }
   ],
   "source": [
    "collection.insert_many([\n",
    "    {\n",
    "        'Number': 503,\n",
    "        'Year': 2009,\n",
    "        'Album': 'Welcome to the Masquerade',\n",
    "        'Artist': 'TFK',\n",
    "        'Genre': 'Rock, Metal, Metal Alternative',\n",
    "        'Subgenre': 'Christian Rock, Metal Alterative, Rap Rock'\n",
    "    },\n",
    "    {\n",
    "        'Number': 504,\n",
    "        'Year': 2013,\n",
    "        'Album': 'The End Is Where We Begin',\n",
    "        'Artist': 'TFK',\n",
    "        'Genre': 'Rock, Metal, Rap Metal, Metal Alternative',\n",
    "        'Subgenre': 'Christian Rock, Metal Alterative'\n",
    "    }\n",
    "])"
   ]
  },
  {
   "cell_type": "code",
   "execution_count": 88,
   "metadata": {
    "scrolled": true
   },
   "outputs": [
    {
     "data": {
      "text/plain": [
       "[{'_id': ObjectId('602ffad7b4cf2c001163d4cb'),\n",
       "  'Number': 503,\n",
       "  'Year': 2009,\n",
       "  'Album': 'Welcome to the Masquerade',\n",
       "  'Artist': 'TFK',\n",
       "  'Genre': 'Rock, Metal, Metal Alternative',\n",
       "  'Subgenre': 'Christian Rock, Metal Alterative, Rap Rock'},\n",
       " {'_id': ObjectId('602ffad7b4cf2c001163d4cc'),\n",
       "  'Number': 504,\n",
       "  'Year': 2013,\n",
       "  'Album': 'The End Is Where We Begin',\n",
       "  'Artist': 'TFK',\n",
       "  'Genre': 'Rock, Metal, Rap Metal, Metal Alternative',\n",
       "  'Subgenre': 'Christian Rock, Metal Alterative'}]"
      ]
     },
     "execution_count": 88,
     "metadata": {},
     "output_type": "execute_result"
    }
   ],
   "source": [
    "list(collection.find({\"Artist\": \"TFK\"}))"
   ]
  },
  {
   "cell_type": "markdown",
   "metadata": {},
   "source": [
    "## Requête 9\n",
    "\n",
    "Renomer l'artiste TFK en Thousand Foot Krutch"
   ]
  },
  {
   "cell_type": "code",
   "execution_count": 93,
   "metadata": {},
   "outputs": [
    {
     "data": {
      "text/plain": [
       "<pymongo.results.UpdateResult at 0x7f5301e5b588>"
      ]
     },
     "execution_count": 93,
     "metadata": {},
     "output_type": "execute_result"
    }
   ],
   "source": [
    "collection.update_many({\"Artist\":\"TFK\"}, {\"$set\":{\"Artist\":\"Thousand Foot Krutch\"}})"
   ]
  },
  {
   "cell_type": "code",
   "execution_count": 96,
   "metadata": {},
   "outputs": [
    {
     "data": {
      "text/plain": [
       "[]"
      ]
     },
     "execution_count": 96,
     "metadata": {},
     "output_type": "execute_result"
    }
   ],
   "source": [
    "list(collection.find({\"Artist\": \"TFK\"}))"
   ]
  },
  {
   "cell_type": "code",
   "execution_count": 94,
   "metadata": {
    "scrolled": true
   },
   "outputs": [
    {
     "data": {
      "text/plain": [
       "[{'_id': ObjectId('602ffad7b4cf2c001163d4cb'),\n",
       "  'Number': 503,\n",
       "  'Year': 2009,\n",
       "  'Album': 'Welcome to the Masquerade',\n",
       "  'Artist': 'Thousand Foot Krutch',\n",
       "  'Genre': 'Rock, Metal, Metal Alternative',\n",
       "  'Subgenre': 'Christian Rock, Metal Alterative, Rap Rock'},\n",
       " {'_id': ObjectId('602ffad7b4cf2c001163d4cc'),\n",
       "  'Number': 504,\n",
       "  'Year': 2013,\n",
       "  'Album': 'The End Is Where We Begin',\n",
       "  'Artist': 'Thousand Foot Krutch',\n",
       "  'Genre': 'Rock, Metal, Rap Metal, Metal Alternative',\n",
       "  'Subgenre': 'Christian Rock, Metal Alterative'}]"
      ]
     },
     "execution_count": 94,
     "metadata": {},
     "output_type": "execute_result"
    }
   ],
   "source": [
    "list(collection.find({\"Artist\": \"Thousand Foot Krutch\"}))"
   ]
  },
  {
   "cell_type": "markdown",
   "metadata": {},
   "source": [
    "## Requête 10\n",
    "\n",
    "Supprimer l'album Welcome to the Masquerade de Thousand Foot Krutch"
   ]
  },
  {
   "cell_type": "code",
   "execution_count": 98,
   "metadata": {},
   "outputs": [
    {
     "data": {
      "text/plain": [
       "[{'_id': ObjectId('602ffad7b4cf2c001163d4cb'),\n",
       "  'Number': 503,\n",
       "  'Year': 2009,\n",
       "  'Album': 'Welcome to the Masquerade',\n",
       "  'Artist': 'Thousand Foot Krutch',\n",
       "  'Genre': 'Rock, Metal, Metal Alternative',\n",
       "  'Subgenre': 'Christian Rock, Metal Alterative, Rap Rock'}]"
      ]
     },
     "execution_count": 98,
     "metadata": {},
     "output_type": "execute_result"
    }
   ],
   "source": [
    "list(collection.find({\"Album\": \"Welcome to the Masquerade\"}))"
   ]
  },
  {
   "cell_type": "code",
   "execution_count": 99,
   "metadata": {},
   "outputs": [
    {
     "data": {
      "text/plain": [
       "<pymongo.results.DeleteResult at 0x7f5300b74948>"
      ]
     },
     "execution_count": 99,
     "metadata": {},
     "output_type": "execute_result"
    }
   ],
   "source": [
    "collection.delete_one({\"Album\": \"Welcome to the Masquerade\"})"
   ]
  },
  {
   "cell_type": "code",
   "execution_count": 100,
   "metadata": {},
   "outputs": [
    {
     "data": {
      "text/plain": [
       "[]"
      ]
     },
     "execution_count": 100,
     "metadata": {},
     "output_type": "execute_result"
    }
   ],
   "source": [
    "list(collection.find({\"Album\": \"Welcome to the Masquerade\"}))"
   ]
  }
 ],
 "metadata": {
  "kernelspec": {
   "display_name": "Python 3",
   "language": "python",
   "name": "python3"
  },
  "language_info": {
   "codemirror_mode": {
    "name": "ipython",
    "version": 3
   },
   "file_extension": ".py",
   "mimetype": "text/x-python",
   "name": "python",
   "nbconvert_exporter": "python",
   "pygments_lexer": "ipython3",
   "version": "3.6.12"
  }
 },
 "nbformat": 4,
 "nbformat_minor": 2
}
