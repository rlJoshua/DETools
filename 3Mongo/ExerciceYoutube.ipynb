{
 "cells": [
  {
   "cell_type": "markdown",
   "metadata": {},
   "source": [
    "# Consignes\n",
    "\n",
    "Intégrer le fichier USvideos.csv qui représente un ensemble de 8000 vidéos Youtube. \n",
    "\n",
    "Merger le fichier US_category_id.json pour récupérer le nom des catégories. Il conviendra de bien spécifier l'ID du document.\n",
    "\n",
    "\n",
    "# Questions \n",
    "- 1) Récupérer toutes les vidéos de la chaîne Apple.\n",
    "- 2) Compter le nombre de catégories différentes\n",
    "- 3) Si vous ne l'avez pas déjà fait, découper les tags en listes et mettre à jour les tags de chacun des documents avec une requête update.\n",
    "- 4) Récupérer les vidéos les plus vues.\n",
    "- 5) Compter le nombre moyen de vues en fonction de la catégorie.\n",
    "- 6) Récupérer les chaines Youtube avec la plus grande moyenne de likes."
   ]
  },
  {
   "cell_type": "code",
   "execution_count": 1,
   "metadata": {},
   "outputs": [],
   "source": [
    "import pandas as pd\n",
    "import pymongo"
   ]
  },
  {
   "cell_type": "code",
   "execution_count": 2,
   "metadata": {},
   "outputs": [],
   "source": [
    "client = pymongo.MongoClient(\"mongo:27017\")\n",
    "database = client['exercices']\n",
    "collection = database['youtube']"
   ]
  },
  {
   "cell_type": "code",
   "execution_count": 3,
   "metadata": {},
   "outputs": [
    {
     "data": {
      "text/html": [
       "<div>\n",
       "<style>\n",
       "    .dataframe thead tr:only-child th {\n",
       "        text-align: right;\n",
       "    }\n",
       "\n",
       "    .dataframe thead th {\n",
       "        text-align: left;\n",
       "    }\n",
       "\n",
       "    .dataframe tbody tr th {\n",
       "        vertical-align: top;\n",
       "    }\n",
       "</style>\n",
       "<table border=\"1\" class=\"dataframe\">\n",
       "  <thead>\n",
       "    <tr style=\"text-align: right;\">\n",
       "      <th></th>\n",
       "      <th>video_id</th>\n",
       "      <th>title</th>\n",
       "      <th>channel_title</th>\n",
       "      <th>category_id</th>\n",
       "      <th>tags</th>\n",
       "      <th>views</th>\n",
       "      <th>likes</th>\n",
       "      <th>dislikes</th>\n",
       "      <th>comment_total</th>\n",
       "      <th>thumbnail_link</th>\n",
       "      <th>date</th>\n",
       "    </tr>\n",
       "  </thead>\n",
       "  <tbody>\n",
       "    <tr>\n",
       "      <th>0</th>\n",
       "      <td>XpVt6Z1Gjjo</td>\n",
       "      <td>1 YEAR OF VLOGGING -- HOW LOGAN PAUL CHANGED Y...</td>\n",
       "      <td>Logan Paul Vlogs</td>\n",
       "      <td>24</td>\n",
       "      <td>logan paul vlog|logan paul|logan|paul|olympics...</td>\n",
       "      <td>4394029</td>\n",
       "      <td>320053</td>\n",
       "      <td>5931</td>\n",
       "      <td>46245</td>\n",
       "      <td>https://i.ytimg.com/vi/XpVt6Z1Gjjo/default.jpg</td>\n",
       "      <td>13.09</td>\n",
       "    </tr>\n",
       "    <tr>\n",
       "      <th>1</th>\n",
       "      <td>K4wEI5zhHB0</td>\n",
       "      <td>iPhone X — Introducing iPhone X — Apple</td>\n",
       "      <td>Apple</td>\n",
       "      <td>28</td>\n",
       "      <td>Apple|iPhone 10|iPhone Ten|iPhone|Portrait Lig...</td>\n",
       "      <td>7860119</td>\n",
       "      <td>185853</td>\n",
       "      <td>26679</td>\n",
       "      <td>0</td>\n",
       "      <td>https://i.ytimg.com/vi/K4wEI5zhHB0/default.jpg</td>\n",
       "      <td>13.09</td>\n",
       "    </tr>\n",
       "  </tbody>\n",
       "</table>\n",
       "</div>"
      ],
      "text/plain": [
       "      video_id                                              title  \\\n",
       "0  XpVt6Z1Gjjo  1 YEAR OF VLOGGING -- HOW LOGAN PAUL CHANGED Y...   \n",
       "1  K4wEI5zhHB0            iPhone X — Introducing iPhone X — Apple   \n",
       "\n",
       "      channel_title  category_id  \\\n",
       "0  Logan Paul Vlogs           24   \n",
       "1             Apple           28   \n",
       "\n",
       "                                                tags    views   likes  \\\n",
       "0  logan paul vlog|logan paul|logan|paul|olympics...  4394029  320053   \n",
       "1  Apple|iPhone 10|iPhone Ten|iPhone|Portrait Lig...  7860119  185853   \n",
       "\n",
       "   dislikes  comment_total                                  thumbnail_link  \\\n",
       "0      5931          46245  https://i.ytimg.com/vi/XpVt6Z1Gjjo/default.jpg   \n",
       "1     26679              0  https://i.ytimg.com/vi/K4wEI5zhHB0/default.jpg   \n",
       "\n",
       "    date  \n",
       "0  13.09  \n",
       "1  13.09  "
      ]
     },
     "execution_count": 3,
     "metadata": {},
     "output_type": "execute_result"
    }
   ],
   "source": [
    "df_youtube = pd.read_csv(\"./data/USvideos.csv\")\n",
    "df_youtube.head(2)"
   ]
  },
  {
   "cell_type": "markdown",
   "metadata": {},
   "source": [
    "## Question 0"
   ]
  },
  {
   "cell_type": "code",
   "execution_count": 4,
   "metadata": {},
   "outputs": [
    {
     "data": {
      "text/plain": [
       "Index(['video_id'], dtype='object')"
      ]
     },
     "execution_count": 4,
     "metadata": {},
     "output_type": "execute_result"
    }
   ],
   "source": [
    "df_youtube.columns[[0]]"
   ]
  },
  {
   "cell_type": "markdown",
   "metadata": {},
   "source": [
    "### Netoyer les données"
   ]
  },
  {
   "cell_type": "code",
   "execution_count": 5,
   "metadata": {},
   "outputs": [],
   "source": [
    "df_youtube = df_youtube.dropna(subset=['date'])\n",
    "df_youtube.rename(columns={'video_id':'_id'}, inplace=True)\n",
    "df_youtube = df_youtube.drop_duplicates(subset='_id', keep='last')\n",
    "l_d = df_youtube.to_dict(orient='records')"
   ]
  },
  {
   "cell_type": "code",
   "execution_count": 10,
   "metadata": {},
   "outputs": [],
   "source": [
    "import json\n",
    "\n",
    "with open('./data/US_category_id.json', 'r') as f:\n",
    "    categ = json.load(f)\n",
    "for video in l_d:\n",
    "    for cat in categ['items']:\n",
    "        if video['category_id'] == int(cat['id']):\n",
    "            video['category_name'] = cat['snippet']['title']"
   ]
  },
  {
   "cell_type": "markdown",
   "metadata": {
    "slideshow": {
     "slide_type": "slide"
    }
   },
   "source": [
    "### Importer les données"
   ]
  },
  {
   "cell_type": "code",
   "execution_count": 11,
   "metadata": {},
   "outputs": [
    {
     "data": {
      "text/plain": [
       "<pymongo.results.InsertManyResult at 0x7f6a35871188>"
      ]
     },
     "execution_count": 11,
     "metadata": {},
     "output_type": "execute_result"
    }
   ],
   "source": [
    "from pymongo import MongoClient\n",
    "\n",
    "client = MongoClient(\"mongo:27017\")\n",
    "\n",
    "db_yt = client.yt\n",
    "\n",
    "collection = db_yt['videos']\n",
    "\n",
    "collection.delete_many({})\n",
    "\n",
    "collection.insert_many(l_d)"
   ]
  },
  {
   "cell_type": "code",
   "execution_count": 50,
   "metadata": {
    "scrolled": true
   },
   "outputs": [
    {
     "data": {
      "text/plain": [
       "{'_id': '5ywKal6-anc',\n",
       " 'title': 'Gigi Hadid Loses High Heel During Fashion Week, Walks It Off Like a Pro | TMZ',\n",
       " 'channel_title': 'TMZ',\n",
       " 'category_id': 24,\n",
       " 'tags': 'TMZ2016FS11221|TMZ|Hollywood|Celebrity|Entertainment|Famous|Hollywood News|Fame|Entertainment News',\n",
       " 'views': 703750,\n",
       " 'likes': 2921,\n",
       " 'dislikes': 2196,\n",
       " 'comment_total': 1042,\n",
       " 'thumbnail_link': 'https://i.ytimg.com/vi/5ywKal6-anc/default.jpg',\n",
       " 'date': 13.09,\n",
       " 'category_name': 'Entertainment'}"
      ]
     },
     "execution_count": 50,
     "metadata": {},
     "output_type": "execute_result"
    }
   ],
   "source": [
    "collection.find_one()"
   ]
  },
  {
   "cell_type": "markdown",
   "metadata": {},
   "source": [
    "## Question 1  \n",
    "\n",
    "1) Récupérer toutes les vidéos de la chaîne Apple."
   ]
  },
  {
   "cell_type": "code",
   "execution_count": 36,
   "metadata": {},
   "outputs": [
    {
     "data": {
      "text/plain": [
       "[{'_id': 'K4wEI5zhHB0',\n",
       "  'title': 'iPhone X — Introducing iPhone X — Apple',\n",
       "  'channel_title': 'Apple',\n",
       "  'category_id': 28,\n",
       "  'tags': 'Apple|iPhone 10|iPhone Ten|iPhone|Portrait Lighting|A11 Bionic|augmented reality|emoji|animoji|Face ID|Apple Pay|camera|smartphone',\n",
       "  'views': 19707391,\n",
       "  'likes': 381919,\n",
       "  'dislikes': 69465,\n",
       "  'comment_total': 0,\n",
       "  'thumbnail_link': 'https://i.ytimg.com/vi/K4wEI5zhHB0/default.jpg',\n",
       "  'date': 17.09},\n",
       " {'_id': 'A9k88sMyiJM',\n",
       "  'title': 'Apple Watch Series 3 + Apple Music — Roll — Apple',\n",
       "  'channel_title': 'Apple',\n",
       "  'category_id': 28,\n",
       "  'tags': 'Apple|airpods|apple watch|apple watch series 3|apple watch cellular|apple watch 4g|apple music|40 million songs on your wrist|apple skateboard ad|apple train station ad|apple roll ad|apple watch skateboard ad|apple watch train station ad|apple watch roll ad|airpods skateboard ad|airpods train station ad|airpods roll ad|apple music skateboard ad|apple music train station ad|apple music roll ad|misbehaving',\n",
       "  'views': 4112187,\n",
       "  'likes': 26609,\n",
       "  'dislikes': 8982,\n",
       "  'comment_total': 0,\n",
       "  'thumbnail_link': 'https://i.ytimg.com/vi/A9k88sMyiJM/default.jpg',\n",
       "  'date': 20.09},\n",
       " {'_id': 'REZl-ANYKKY',\n",
       "  'title': 'iPhone 8 Plus — Portraits of Her  — Apple',\n",
       "  'channel_title': 'Apple',\n",
       "  'category_id': 28,\n",
       "  'tags': 'Apple|new|iPhone|iPhone 8|iPhone 8 Plus|iOS 11|4.7-inch|5.5-inch|Portrait Lighting|Shot on iPhone|camera|iphonography|smartphone|This Strange Effect|The Shacks',\n",
       "  'views': 183325,\n",
       "  'likes': 1700,\n",
       "  'dislikes': 570,\n",
       "  'comment_total': 0,\n",
       "  'thumbnail_link': 'https://i.ytimg.com/vi/REZl-ANYKKY/default.jpg',\n",
       "  'date': 5.1}]"
      ]
     },
     "execution_count": 36,
     "metadata": {},
     "output_type": "execute_result"
    }
   ],
   "source": [
    "list(collection.find({'channel_title':'Apple'}))"
   ]
  },
  {
   "cell_type": "markdown",
   "metadata": {},
   "source": [
    "## Question 2\n",
    "\n",
    "2) Compter le nombre de catégories différentes"
   ]
  },
  {
   "cell_type": "code",
   "execution_count": 63,
   "metadata": {},
   "outputs": [
    {
     "data": {
      "text/plain": [
       "[{'total_category': 16}]"
      ]
     },
     "execution_count": 63,
     "metadata": {},
     "output_type": "execute_result"
    }
   ],
   "source": [
    "list(collection.aggregate([\n",
    "    {\"$group\" : {\"_id\" : \"$category_id\"}},\n",
    "    {\"$count\": \"total_category\"}\n",
    "]))"
   ]
  },
  {
   "cell_type": "markdown",
   "metadata": {},
   "source": [
    "## Question 3\n",
    "\n",
    "3) Si vous ne l'avez pas déjà fait, découper les tags en listes et mettre à jour les tags de chacun des documents avec une requête update."
   ]
  },
  {
   "cell_type": "code",
   "execution_count": 17,
   "metadata": {},
   "outputs": [
    {
     "ename": "TypeError",
     "evalue": "index 'tags' cannot be applied to Cursor instances",
     "output_type": "error",
     "traceback": [
      "\u001b[0;31m---------------------------------------------------------------------------\u001b[0m",
      "\u001b[0;31mTypeError\u001b[0m                                 Traceback (most recent call last)",
      "\u001b[0;32m<ipython-input-17-5bf357924914>\u001b[0m in \u001b[0;36m<module>\u001b[0;34m\u001b[0m\n\u001b[1;32m      1\u001b[0m \u001b[0mcol\u001b[0m \u001b[0;34m=\u001b[0m \u001b[0mcollection\u001b[0m\u001b[0;34m.\u001b[0m\u001b[0mfind\u001b[0m\u001b[0;34m(\u001b[0m\u001b[0;34m)\u001b[0m\u001b[0;34m\u001b[0m\u001b[0;34m\u001b[0m\u001b[0m\n\u001b[0;32m----> 2\u001b[0;31m \u001b[0mtags\u001b[0m \u001b[0;34m=\u001b[0m \u001b[0mcol\u001b[0m\u001b[0;34m[\u001b[0m\u001b[0;34m'tags'\u001b[0m\u001b[0;34m]\u001b[0m\u001b[0;34m\u001b[0m\u001b[0;34m\u001b[0m\u001b[0m\n\u001b[0m\u001b[1;32m      3\u001b[0m \u001b[0;34m\u001b[0m\u001b[0m\n\u001b[1;32m      4\u001b[0m \u001b[0mprint\u001b[0m\u001b[0;34m(\u001b[0m\u001b[0mtags\u001b[0m\u001b[0;34m)\u001b[0m\u001b[0;34m\u001b[0m\u001b[0;34m\u001b[0m\u001b[0m\n",
      "\u001b[0;32m~/.local/share/virtualenvs/code-AFz48Hjb/lib/python3.6/site-packages/pymongo/cursor.py\u001b[0m in \u001b[0;36m__getitem__\u001b[0;34m(self, index)\u001b[0m\n\u001b[1;32m    586\u001b[0m             \u001b[0;32mraise\u001b[0m \u001b[0mIndexError\u001b[0m\u001b[0;34m(\u001b[0m\u001b[0;34m\"no such item for Cursor instance\"\u001b[0m\u001b[0;34m)\u001b[0m\u001b[0;34m\u001b[0m\u001b[0;34m\u001b[0m\u001b[0m\n\u001b[1;32m    587\u001b[0m         raise TypeError(\"index %r cannot be applied to Cursor \"\n\u001b[0;32m--> 588\u001b[0;31m                         \"instances\" % index)\n\u001b[0m\u001b[1;32m    589\u001b[0m \u001b[0;34m\u001b[0m\u001b[0m\n\u001b[1;32m    590\u001b[0m     \u001b[0;32mdef\u001b[0m \u001b[0mmax_scan\u001b[0m\u001b[0;34m(\u001b[0m\u001b[0mself\u001b[0m\u001b[0;34m,\u001b[0m \u001b[0mmax_scan\u001b[0m\u001b[0;34m)\u001b[0m\u001b[0;34m:\u001b[0m\u001b[0;34m\u001b[0m\u001b[0;34m\u001b[0m\u001b[0m\n",
      "\u001b[0;31mTypeError\u001b[0m: index 'tags' cannot be applied to Cursor instances"
     ]
    }
   ],
   "source": []
  },
  {
   "cell_type": "markdown",
   "metadata": {},
   "source": [
    "## Question 4\n",
    "\n",
    "4) Récupérer les vidéos les plus vues."
   ]
  },
  {
   "cell_type": "code",
   "execution_count": 60,
   "metadata": {},
   "outputs": [
    {
     "data": {
      "text/plain": [
       "[{'_id': 'MBdVXkSdhwU',\n",
       "  'title': \"BTS (방탄소년단) 'DNA' Official MV\",\n",
       "  'channel_title': 'ibighit',\n",
       "  'category_id': 10,\n",
       "  'tags': 'BIGHIT|빅히트|방탄소년단|BTS|BANGTAN|방탄',\n",
       "  'views': 41500672,\n",
       "  'likes': 2010366,\n",
       "  'dislikes': 78076,\n",
       "  'comment_total': 736179,\n",
       "  'thumbnail_link': 'https://i.ytimg.com/vi/MBdVXkSdhwU/default.jpg',\n",
       "  'date': 22.09},\n",
       " {'_id': 'tt2k8PGm-TI',\n",
       "  'title': 'ZAYN - Dusk Till Dawn ft. Sia',\n",
       "  'channel_title': 'ZaynVEVO',\n",
       "  'category_id': 10,\n",
       "  'tags': 'Dusk Till Dawn|Pop|RCA Records Label|ZAYN feat. Sia',\n",
       "  'views': 36323498,\n",
       "  'likes': 1431683,\n",
       "  'dislikes': 28049,\n",
       "  'comment_total': 100661,\n",
       "  'thumbnail_link': 'https://i.ytimg.com/vi/tt2k8PGm-TI/default.jpg',\n",
       "  'date': 13.09},\n",
       " {'_id': 'LunHybOKIjU',\n",
       "  'title': 'Eminem Rips Donald Trump In BET Hip Hop Awards Freestyle Cypher',\n",
       "  'channel_title': 'BETNetworks',\n",
       "  'category_id': 24,\n",
       "  'tags': 'BET|BET Networks|BET Music|Black Entertainment Television|eminem|freestyle|full|hip hop awards|hip hop awards 2017|bet hip hop awards|donald trump|potus|full freestyle|EMINEM TRUMP|TRUMP TWITTER|trump tweet|trump nfl|eminem bet cypher|bet cypher|eminem freestyle|8 mile|eminem new album|trump diss|eminem trump diss',\n",
       "  'views': 33191594,\n",
       "  'likes': 982842,\n",
       "  'dislikes': 184310,\n",
       "  'comment_total': 337603,\n",
       "  'thumbnail_link': 'https://i.ytimg.com/vi/LunHybOKIjU/default.jpg',\n",
       "  'date': 18.1}]"
      ]
     },
     "execution_count": 60,
     "metadata": {},
     "output_type": "execute_result"
    }
   ],
   "source": [
    "list(collection.find().sort([('views', -1)]).limit(3))"
   ]
  },
  {
   "cell_type": "markdown",
   "metadata": {},
   "source": [
    "## Question 5\n",
    "\n",
    "5) Compter le nombre moyen de vues en fonction de la catégorie."
   ]
  },
  {
   "cell_type": "code",
   "execution_count": 61,
   "metadata": {},
   "outputs": [
    {
     "data": {
      "text/plain": [
       "[{'_id': 19, 'averageView': 426492.22222222225},\n",
       " {'_id': 1, 'averageView': 966547.2871287129},\n",
       " {'_id': 2, 'averageView': 622727.8648648649},\n",
       " {'_id': 22, 'averageView': 892992.28515625},\n",
       " {'_id': 43, 'averageView': 8726.0},\n",
       " {'_id': 27, 'averageView': 550585.2659574468},\n",
       " {'_id': 20, 'averageView': 777213.0357142857},\n",
       " {'_id': 24, 'averageView': 1059427.7735849055},\n",
       " {'_id': 28, 'averageView': 861563.6158940397},\n",
       " {'_id': 17, 'averageView': 618074.711409396},\n",
       " {'_id': 10, 'averageView': 1442240.943283582},\n",
       " {'_id': 29, 'averageView': 681178.2},\n",
       " {'_id': 25, 'averageView': 533575.1262626263},\n",
       " {'_id': 15, 'averageView': 633906.4210526316},\n",
       " {'_id': 23, 'averageView': 1317200.7289719626},\n",
       " {'_id': 26, 'averageView': 556002.6679389313}]"
      ]
     },
     "execution_count": 61,
     "metadata": {},
     "output_type": "execute_result"
    }
   ],
   "source": [
    "list(collection.aggregate([{\"$group\" : {\"_id\" : \"$category_id\", \"averageView\" : {\"$avg\" : \"$views\"}}}]))"
   ]
  },
  {
   "cell_type": "markdown",
   "metadata": {},
   "source": [
    "## Question 6 \n",
    "\n",
    "6) Récupérer les chaines Youtube avec la plus grande moyenne de likes."
   ]
  },
  {
   "cell_type": "code",
   "execution_count": 59,
   "metadata": {},
   "outputs": [
    {
     "data": {
      "text/plain": [
       "[{'_id': 'ibighit', 'averageLike': 1533457.0},\n",
       " {'_id': 'ZaynVEVO', 'averageLike': 1431683.0},\n",
       " {'_id': 'BETNetworks', 'averageLike': 982842.0},\n",
       " {'_id': 'melanie martinez', 'averageLike': 921577.0},\n",
       " {'_id': 'jypentertainment', 'averageLike': 793387.0}]"
      ]
     },
     "execution_count": 59,
     "metadata": {},
     "output_type": "execute_result"
    }
   ],
   "source": [
    "list(collection.aggregate([\n",
    "    {\"$group\":{\n",
    "        \"_id\" : \"$channel_title\", \n",
    "        \"averageLike\" : {\"$avg\" :\"$likes\"}}\n",
    "    },\n",
    "    {\"$sort\" : {\"averageLike\" : -1}},\n",
    "    {\"$limit\" : 5}\n",
    "]))"
   ]
  }
 ],
 "metadata": {
  "kernelspec": {
   "display_name": "Python 3",
   "language": "python",
   "name": "python3"
  },
  "language_info": {
   "codemirror_mode": {
    "name": "ipython",
    "version": 3
   },
   "file_extension": ".py",
   "mimetype": "text/x-python",
   "name": "python",
   "nbconvert_exporter": "python",
   "pygments_lexer": "ipython3",
   "version": "3.6.12"
  }
 },
 "nbformat": 4,
 "nbformat_minor": 2
}
